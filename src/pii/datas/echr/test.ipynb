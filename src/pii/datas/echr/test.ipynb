{
 "cells": [
  {
   "cell_type": "code",
   "execution_count": 2,
   "metadata": {},
   "outputs": [],
   "source": [
    "from datasets import load_dataset\n",
    "\n",
    "ds = load_dataset(\"json\", data_files=\"raw/echr.jsonl\")"
   ]
  },
  {
   "cell_type": "code",
   "execution_count": 5,
   "metadata": {},
   "outputs": [],
   "source": [
    "pii_types = []\n",
    "for row in ds['train']:\n",
    "    pii_mask = row[\"pii_mask\"]\n",
    "    for entity in pii_mask:\n",
    "        pii_type = entity['label'].split(\"-\")[0]\n",
    "        if pii_type not in pii_types:\n",
    "            pii_types.append(pii_type)"
   ]
  },
  {
   "cell_type": "code",
   "execution_count": 6,
   "metadata": {},
   "outputs": [
    {
     "data": {
      "text/plain": [
       "['DATE_TIME',\n",
       " 'ORGANIZATION',\n",
       " 'PERSON',\n",
       " 'LOCATION',\n",
       " 'PHONE_NUMBER',\n",
       " 'ID',\n",
       " 'URL',\n",
       " 'MEDICAL_LICENSE']"
      ]
     },
     "execution_count": 6,
     "metadata": {},
     "output_type": "execute_result"
    }
   ],
   "source": [
    "pii_types"
   ]
  },
  {
   "cell_type": "code",
   "execution_count": 8,
   "metadata": {},
   "outputs": [
    {
     "name": "stdout",
     "output_type": "stream",
     "text": [
      "59\n",
      "104\n",
      "93\n",
      "144\n",
      "179\n",
      "177\n",
      "61\n",
      "105\n",
      "64\n",
      "94\n",
      "86\n",
      "55\n",
      "68\n",
      "61\n",
      "95\n",
      "55\n",
      "104\n",
      "69\n",
      "108\n",
      "62\n",
      "73\n",
      "53\n",
      "117\n",
      "130\n",
      "168\n",
      "87\n",
      "192\n",
      "73\n",
      "104\n",
      "225\n",
      "183\n",
      "171\n",
      "101\n",
      "63\n",
      "138\n",
      "125\n",
      "165\n",
      "56\n",
      "64\n",
      "55\n",
      "62\n",
      "52\n",
      "60\n",
      "51\n",
      "76\n",
      "69\n",
      "67\n",
      "91\n",
      "102\n",
      "115\n",
      "88\n",
      "60\n",
      "53\n",
      "74\n",
      "66\n",
      "131\n",
      "60\n",
      "60\n",
      "95\n",
      "84\n",
      "90\n",
      "75\n",
      "85\n",
      "91\n",
      "109\n",
      "139\n",
      "72\n",
      "135\n",
      "96\n",
      "53\n",
      "252\n",
      "199\n",
      "135\n",
      "145\n",
      "103\n",
      "51\n",
      "129\n",
      "90\n",
      "102\n",
      "56\n",
      "63\n",
      "81\n",
      "128\n",
      "136\n",
      "75\n",
      "84\n",
      "59\n",
      "63\n",
      "112\n",
      "93\n",
      "56\n",
      "85\n",
      "78\n",
      "53\n",
      "113\n",
      "70\n",
      "71\n",
      "114\n",
      "138\n",
      "142\n"
     ]
    }
   ],
   "source": [
    "i = 0\n",
    "for row in ds['train']:\n",
    "    unmasked_seq = row[\"unmasked_seq\"]\n",
    "    print(len(unmasked_seq.split()))\n",
    "    i += 1\n",
    "    if i == 100:\n",
    "        break"
   ]
  }
 ],
 "metadata": {
  "kernelspec": {
   "display_name": "pii",
   "language": "python",
   "name": "python3"
  },
  "language_info": {
   "codemirror_mode": {
    "name": "ipython",
    "version": 3
   },
   "file_extension": ".py",
   "mimetype": "text/x-python",
   "name": "python",
   "nbconvert_exporter": "python",
   "pygments_lexer": "ipython3",
   "version": "3.10.15"
  }
 },
 "nbformat": 4,
 "nbformat_minor": 2
}
